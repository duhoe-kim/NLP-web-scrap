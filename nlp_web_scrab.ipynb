{
 "cells": [
  {
   "cell_type": "markdown",
   "id": "77a50757",
   "metadata": {},
   "source": [
    "# Research Report\n",
    "\n",
    "## Job Research: exploring about job related computer science - software developer\n",
    "\n",
    "NAME : KIM DUHOE"
   ]
  },
  {
   "cell_type": "markdown",
   "id": "1fb4952a",
   "metadata": {},
   "source": [
    "## 1. Introduction\n",
    "\n",
    "In the recent years, computer science has been one of the most popular degrees in Singapore. This is evident from the fact that universities have increased the number of places in Computer Science (Davie, 2022), where more places are required due to more incoming students who wish to study in computer science degrees.\n",
    "\n",
    "There are many factors for choosing a degree and those determines the popularity of the degrees. Among those factors, one of the biggest factors would be high starting salary (Peh, 2022). \n",
    "\n",
    "As a student who is studying Computer Science in Singpoore in University of London (UOL), I have found that there are many areas in the field of computer science. Hence, I had to research and think about in which areas I am interested and would like to develop my career. I am sure that many students studying in computer science degrees would have similar thoughts like mine. \n",
    "\n",
    "This research paper covers research on software developer in Singapore, which is one of the areas that caught my attention. This research is inspired by one of Youtubers, Luke Barousse. (Luke Barousse, 2021). From the way he searched through the Linkedin website for his job using a web scrapping bot, I thought that it would be interesting to apply data analysis skill to research about software developer.\n",
    "\n",
    "### 1.1 Aims / Objectives\n",
    "\n",
    "In this research I would like to explore the following:\n",
    "-\tWhat are the job skills and qualities expected for the software developer\n",
    "-\tWhat programming languages are important for software developer\n"
   ]
  },
  {
   "cell_type": "markdown",
   "id": "17363349",
   "metadata": {},
   "source": [
    "## 2. Project Background\n",
    "The basic purpose behind this study is to show how research on job is done through data science skills. In this paper, software developer is used as an example of how the research is done and determine what are the preparation needed for software developer.\n",
    "\n",
    "One of the reasons why this study is important is that there are several preparations that are required to be done when applying for jobs. While preparing, one of the important resources that can be referred is the information provided in job requirements under the job description. The job requirements provide the guidelines of what the job role is requiring and what the company is expecting (Talentlyft, n.d.). If applicant has what the company is requiring for, it will give the applicant a huge advantage when applying for that job role.\n",
    "\n",
    "Hence, it can be said that studying of job requirements of software developer would provide the job prospect of software developer.\n",
    "\n",
    "Another reason is that there are many programming languages are being developed and each are used in different fields of computer science. They are developed to make it easier to use and more robust. Some of the programming languages is used for specific purpose, which are call domain-specific language, such as MATLAB. (Computer Hope, 2019)\n",
    "\n",
    "Hence, it is important to know what the popular languages are used in the field of software development. Thus, it can be said that it is important to research about the well-used languages used in the field\n",
    "\n",
    "### 2.1.\tProject Scope\n",
    "\n",
    "***What is covered***\n",
    "1. Research of job requirements of software development in Singapore to get the job skills and qualities and the most wanted programming language in the field of software development\n",
    "2. Research of software development offer posts related to Singapore on different job portals to provide enough data for the studies\n",
    "\n",
    "***What is not covered***\n",
    "1. Research through comparison of job portals\n",
    "2. Research through comparison of companies offering the same job\n",
    "3. Research through comparison of experience level\n",
    "4. Research through comparison of other countries\n",
    "\n",
    "### 2.2.\tProject Process (data processing pipeline)\n",
    "\n",
    "***Decisions on data requirement***\n",
    "- Decide on what job portals are suitable to acquire data from\n",
    "- Decide on how many job entries would be sufficient for analysing the requirements and the job skills and qualities\n",
    "\n",
    "***Data acquiring***\n",
    "- Collect the job entries through web scrapping from each job portals chosen\n",
    "- Collect list of programming languages for data analysis\n",
    "- Save them in file for data cleaning and analysis\n",
    "\n",
    "***Data cleaning***\n",
    "- Clean data through Natural Language Processing until the data is usable for data analysis later\n",
    "\n",
    "***Data analysis***\n",
    "- Use the cleaned data to visualise the data patterns and distribution and achieve the aims of this research\n"
   ]
  },
  {
   "cell_type": "markdown",
   "id": "dd802a0e",
   "metadata": {},
   "source": [
    "## 3. Data Requirements\n",
    "As web scraping is the main data acquiring method, the data sources are mainly from job portal websites.\n",
    "\n",
    "When companies are recruiting, they upload the same job posts on multiple job portals. This results in repeated job posts across the job portals. If many portals were to be chosen, it would cause repeated data in the data set acquired. This would lead to inaccurate result when analysing. Hence, three job portals were chosen for the research to minimise such possible issue.\n",
    "\n",
    "I have decided number of records to be around one thousand job posts from each website, instead of number of pages. The reasons are the followings.\n",
    "- Firstly, there are different number of job posts for each website. Even though the number of job posts from each website is not equal, it does not matter as the research is not based on the comparison of the websites, where comparison of job portals is not in the scope of this research.\n",
    "- Secondly, the number of records was not decided based on the number of pages as number of entries displayed on each page is different for all websites. As multiple requests are made during web scrapping, it may exhaust server resources and cause issues if there are hundreds of posts on each page. Hence, I have limited number of entries and did not use number of pages.\n",
    "\n",
    "### 3.1 Choice of data: methodology\n",
    "\n",
    "#### Website\n",
    "The websites were chosen based on its popularity in Singapore, as the targeted country of this research is Singapore. \n",
    "\n",
    "The followings are the websites chosen\n",
    "\n",
    "*LinkedIn*\n",
    "\n",
    "- LinkedIn is one of the well-known job portals for all Singaporeans are familiar with. LinkedIn is used for finding the right job easily, where the account profile can be used to expose users’ professions that the users have and match them to the related job opportunities LinkedIn (n.d.). Based on the studies done by LinkedIn, it shows that more than three million Singaporeans uses LinkedIn, where the total population of Singapore is about six million. That is about half of the population in Singapore using LinkedIn as job portal LinkedIn (n.d.). This shows that LinkedIn is popular and well-used job portal in Singapore and thus this website was chosen for data source.\n",
    "\n",
    "*Indeed*\n",
    "\n",
    "- Indeed is one of the top job portals that is used across the world. It is used to search for jobs, post resumes and research about companies, where it has more than 300 million monthly visitors (Indeed, n.d.). As Indeed is an active and popular job portal website, this website was chosen for data source.\n",
    "\n",
    "*JobStreet*\n",
    "\n",
    "- JobStreet is Asia targeted job portal, where it covers markets in Singapore, Malaysia, Philippines, Indonesia, India, Japan, Vietnam and Thailand (JobStreet, 2022). This shows that JobStreet is one of the popular job portals in Asia. This is supported by JobStreet, where it ‘hosts 30 million profiles and 500,000 hirer interations (JobStreet, 2021). From this, it can be concluded that JobStreet is a very relevant job portal website for Singapore and thus this website was chosen for data source.\n",
    "\n",
    "*Other consideration - MyCareersFuture*\n",
    "\n",
    "- MyCareersFuture was one of the considerations for the websites chosen for web scraping data source. However, I excluded it from the data source as it does not seem valid.  MyCareersFuture is made mainly to increase employment rate of Singaporeans and Permanent Residents, where it is produced by the Singapore Government. This is evident from the fact that Ministry of Manpower of Singapore firms that the employers must advertise jobs on MyCareersFuture portal at least 28 days before the application is open for foreigners. (Seow, 2020).  Even if it is made requirement for the companies in Singapore, it does not mean that companies must accept all resume or applications from MyCareersFuture (Phneah, 2020). This would mean that the portal would not serve its purpose. Also, it is questionable if the companies would upload the job advertisement truthfully.  Hence, it derived to a conclusion that MyCareersFuture is not valid to be used for data source as it is not trustworthy.\n",
    "\n",
    "#### Filter\n",
    "\n",
    "By using the filter, I do not have to scrap all the unnecessary data, such as job posts for those who are in England. Hence, I can verify that the data set is relevant. Hence, using the filter helps to get relevant data set from the data source.\n",
    "\n",
    "Using the filter feature in the website portals, data entries that is not under the scope of the research is sorted out. As the targeted scope is only for job entries that are related to the current course, I limited the entries displayed to software developer related entries.\n",
    "\n",
    "Furthermore, only the job entries that are posted within the time of the past week is selected, so that it stays relevant. Among them, only the full-time entries in Singapore were selected, as the scope only covers jobs for fresh graduates in Singapore.\n",
    "\n",
    "\n",
    "### 3.2 Limitations and constraints of the data\n",
    "\n",
    "#### Repeated posts\n",
    "\n",
    "One of the limitations is that the post might be repeated across the data sources. It would cause issue during data modification, where same data would be counted multiple times. Due to this, it would represent different outputs from the actual statistics. This would result in inaccurate data analysis due to the repeated data.\n",
    "\n",
    "#### Possibility of server overload\n",
    "\n",
    "Another limitation is that it might cause server overload. To get the data source in each post, it would not be enough to go through each page. This means that there could be multiple nest loops, which would exhaust the server resource and cause server overload. \n",
    "To prevent this, one possible solution is to save the data in CSV file and use the local file to work on it, which leads to another issue. At the point of time when this research is written, the data set would still be relevant. However, the research result would not be as relevant as time passes. As time passes, there would new job posts on the websites, and the requirements might change over time. Hence, the analysis done based on the data from CSV file might not be as accurate as time passes.\n",
    "\n",
    "#### Irregular posts of job description\n",
    "\n",
    "Last limitation is that the post of job description does not have a proper format or template they follow. Hence, the labels of job details are different for every entry and the notations used are different too. \n",
    "Furthermore, the order of job descriptions, such as job responsibility, about company and job requirements, is not constant too.\n",
    "Due to the irregularity, the whole job description had to be taken as data source. This led to less accurate data cleaning and modification.\n",
    "\n",
    "### 3.4 Strength of the data\n",
    "\n",
    "Multiple data sources used have filter features. If only one of them has the feature, it would not be fair to use the feature for only one of them. Since all data sources that are used have similar filter features, it is appropriate to used. Furthermore, it helps to reduce some of the data cleaning process. This would allow more time to refine and clean the data even further, which would result in cleaner data to analyse. This would improve the quality of the analysis. Hence, using the filter features is the strength of the data.\n"
   ]
  },
  {
   "cell_type": "markdown",
   "id": "88cfaa1f",
   "metadata": {},
   "source": [
    "## 4. Data Library\n",
    "\n",
    "### 4.1 Data acquisition\n",
    "Selenium is the library used for data acquiring, together with web driver. In this research, chrome is used as main browser. \n",
    "\n",
    "Selenium is used get access to the browser and navigate through the given url, as if a real person is accessing the website.\n",
    "\n",
    "Advantage of Selenium is that it minimises the detection of bot, where it does not have to pass in the headers when requesting access to websites. This shows that it overcomes the limitation of beautifulsoup, where I had to problem with the website that has high security of denying bot requests when using beautiful soup.\n",
    "\n",
    "Disadvantage of Selenium is that it needs to wait for the browser to load the page completely. Some pop-ups would cause error when trying to get to a certain element to be clicked, as the element cannot be clicked due to the pop-up window.\n",
    "\n",
    "Pandas is a library to present, save and load data in table format. There are many other functions in Pandas that helps to manipuate elements in the table formed.\n",
    "\n",
    "Pandas is used to save the data from web scraping into csv file for later use of data cleaning and processing. By saving the data as dataframe as csv file, it eliminates the need of scraping data every time the file is open.\n",
    "\n",
    "### 4.2 Data cleaning and processing\n",
    "Pandas is used to load the data that is saved in csv file\n",
    "\n",
    "Regular expression (re) library is used to find the keywords used to label the job reqirements in the job descriptions.\n",
    "\n",
    "Natural Language Toolkit (nltk) library is used to Natural Langauge Processing.\n",
    "\n",
    "### 4.3 Data analysis\n",
    "Matplotlib and Word Cloud is used to visualise the cleaned data."
   ]
  },
  {
   "cell_type": "code",
   "execution_count": 1,
   "id": "dad7bd06",
   "metadata": {},
   "outputs": [],
   "source": [
    "import time\n",
    "\n",
    "#selenium lib\n",
    "import selenium\n",
    "from selenium.common.exceptions import ElementClickInterceptedException\n",
    "\n",
    "from selenium import webdriver\n",
    "from selenium.webdriver.chrome.options import Options\n",
    "from selenium.webdriver.common.by import By\n",
    "from selenium.webdriver.common.keys import Keys\n",
    "\n",
    "#webdriver (chrome) - used with selenium\n",
    "from webdriver_manager.chrome import ChromeDriverManager\n",
    "\n",
    "#pandas lib\n",
    "import pandas as pd\n",
    "\n",
    "#reg ex lib\n",
    "import re\n",
    "\n",
    "#nltk lib\n",
    "import nltk\n",
    "\n",
    "from nltk.tokenize import word_tokenize\n",
    "from nltk.corpus import stopwords\n",
    "from nltk.stem import WordNetLemmatizer\n",
    "from nltk.probability import FreqDist\n",
    "\n",
    "#matplotlib\n",
    "import matplotlib.pyplot as plt\n",
    "\n",
    "#word cloud\n",
    "from wordcloud import WordCloud"
   ]
  },
  {
   "cell_type": "markdown",
   "id": "9fcc5c8a",
   "metadata": {},
   "source": [
    "## 5. Data Acquisition\n",
    "For data acquisition, selenium library is used. The technique using the selenium lib takes a few steps.\n",
    "As selenium uses bot to access browser like a real person is doing so, it is important to check if it is surfing and navigating through the right page.\n",
    "After this is confirmed, the first step is to use inspect or view page source to check the html format.\n",
    "From the html format, it is possible to find element(s) using html tags, attributes or through XPATH.\n",
    "After finding them, the bot takes the information from the elements or doing a particular action based on the code, such as clicking on the element or get text in the element.\n",
    "\n",
    "Using this method, the three job portals were accessed for webs scraping. As they has different layout and html formats, each job portal requires its own way to find the element and get the necessary information.\n",
    "\n",
    "For every steps, it waits about 2 to 3 seconds, depending on what is the step in order to prevent error caused by loading\n",
    "\n",
    "### 5.1 Data extraction from LinkedIn\n",
    "#### Funtions to open LinkedIn webapge\n",
    "In order to get to the LinkedIn page that shows job entries, it requires a few steps to navigate through the website before reaching to the url.\n",
    "\n",
    "The below function helps to login to LinkedIn page"
   ]
  },
  {
   "cell_type": "code",
   "execution_count": 2,
   "id": "9df2884e",
   "metadata": {},
   "outputs": [],
   "source": [
    "#function to login to Linkedin page\n",
    "def loginToLinkedin(browser):\n",
    "    #fill up user id\n",
    "    input_username = browser.find_element(By.ID, \"session_key\")\n",
    "    input_username.send_keys(\"xoyajo5209@gmail.com\")\n",
    "    time.sleep(2)\n",
    "\n",
    "    #fill up password\n",
    "    input_password = browser.find_element(By.ID, \"session_password\")\n",
    "    input_password.send_keys(\"xoyajo5209\")\n",
    "    time.sleep(2)\n",
    "    \n",
    "    #click login button\n",
    "    button_login = browser.find_element(By.CLASS_NAME, \"sign-in-form__submit-button\")\n",
    "    button_login.click()"
   ]
  },
  {
   "cell_type": "markdown",
   "id": "90162406",
   "metadata": {},
   "source": [
    "The below function helps to search job and location"
   ]
  },
  {
   "cell_type": "code",
   "execution_count": 3,
   "id": "3283eff4",
   "metadata": {},
   "outputs": [],
   "source": [
    "#function to search for job and location in Linkedin page\n",
    "def searchJobandLocation(browser):\n",
    "    #open up search box\n",
    "    input_searchBox = browser.find_element(By.CLASS_NAME, \"jobs-search-box__keyboard-text-input\")\n",
    "    input_searchBox.click()\n",
    "    time.sleep(2)\n",
    "\n",
    "    #fill up job keyword into job search box\n",
    "    input_keyword = browser.find_element(By.XPATH, \"//input[contains(@id,'jobs-search-box-keyword-id')]\")\n",
    "    input_keyword.send_keys(\"software developer\")\n",
    "    time.sleep(2)\n",
    "    \n",
    "    #fill up location keyword into location search box\n",
    "    input_location = browser.find_element(By.XPATH, \"//input[contains(@id, 'jobs-search-box-location-id')]\")\n",
    "    input_location.send_keys(\"singapore\")\n",
    "    time.sleep(2)\n",
    "\n",
    "    #press enter in the last visited search box (location search box)\n",
    "    input_location.send_keys(Keys.RETURN);"
   ]
  },
  {
   "cell_type": "markdown",
   "id": "4b14c23c",
   "metadata": {},
   "source": [
    "The below function helps to filter the jobs by dates (past week)"
   ]
  },
  {
   "cell_type": "code",
   "execution_count": 4,
   "id": "1114d898",
   "metadata": {
    "scrolled": true
   },
   "outputs": [],
   "source": [
    "#function to filter date in Linkedin page \n",
    "def filterDateLinkedin(browser):\n",
    "    #click on date filter to open up filter box\n",
    "    filter_date = browser.find_element(By.XPATH, \"(//span[@tabindex='-1'])[1]\")\n",
    "    filter_date.click()\n",
    "    time.sleep(2)\n",
    "\n",
    "    #click on filter option (past week)\n",
    "    button_date = browser.find_element(By.XPATH, \"//span[text()='Past week']\")\n",
    "    button_date.click()\n",
    "    time.sleep(2)\n",
    "\n",
    "    #click on date filter again to apply filter\n",
    "    filter_date.click()"
   ]
  },
  {
   "cell_type": "markdown",
   "id": "fd0efcf6",
   "metadata": {},
   "source": [
    "The below function helps to filter the jobs by job type (full-time)"
   ]
  },
  {
   "cell_type": "code",
   "execution_count": 5,
   "id": "7b90a38d",
   "metadata": {},
   "outputs": [],
   "source": [
    "#function to filter job-type in Linkedin page \n",
    "def filterJobTypeLinkedin(browser):\n",
    "    #click on job type filter to open up filter box\n",
    "    filter_jobType = browser.find_element(By.XPATH, \"(//span[@tabindex='-1'])[4]\")\n",
    "    filter_jobType.click()\n",
    "    time.sleep(2)\n",
    "\n",
    "    #click on filter option (fill-time)\n",
    "    button_jobType = browser.find_element(By.XPATH, \"//span[text()='Full-time']\")\n",
    "    button_jobType.click()\n",
    "    time.sleep(2)\n",
    "\n",
    "    #click on job filter again to apply filter\n",
    "    filter_jobType.click()"
   ]
  },
  {
   "cell_type": "markdown",
   "id": "cdd9313e",
   "metadata": {},
   "source": [
    "The below function helps to navigate through the LinkedIn page to get the webpage with desired job posts\n",
    "\n",
    "This function is called to navigate to the page that is desired entries are shown"
   ]
  },
  {
   "cell_type": "code",
   "execution_count": 6,
   "id": "bbfd714a",
   "metadata": {},
   "outputs": [],
   "source": [
    "#function to navigate to the starting page for web scrapping Linkedin page\n",
    "def openLinkedinPage(browser):\n",
    "    #navigate to Linkedin homepage\n",
    "    browser.get(\"https://www.linkedin.com/home\")\n",
    "    time.sleep(3)\n",
    "    \n",
    "    #login with user id and password\n",
    "    loginToLinkedin(browser)\n",
    "    time.sleep(3)\n",
    "    \n",
    "    #navigate to Linkedin job page\n",
    "    browser.get(\"https://www.linkedin.com/jobs\")\n",
    "    time.sleep(3)\n",
    "    \n",
    "    #search with job and location keywords\n",
    "    searchJobandLocation(browser)\n",
    "    time.sleep(3)\n",
    "    \n",
    "    #filter by date (past week)\n",
    "    filterDateLinkedin(browser)\n",
    "    time.sleep(3)\n",
    "    #filter by job type (full-time)\n",
    "    filterJobTypeLinkedin(browser)"
   ]
  },
  {
   "cell_type": "markdown",
   "id": "a5781b7c",
   "metadata": {},
   "source": [
    "#### Funtions to extract data LinkedIn webapge\n",
    "\n",
    "The below function loads the page number and it click on it to get to the page\n",
    "\n",
    "It then gets the elements that loads by scrolling to each element and visually show it on the webpage"
   ]
  },
  {
   "cell_type": "code",
   "execution_count": 7,
   "id": "f454bc14",
   "metadata": {
    "scrolled": true
   },
   "outputs": [],
   "source": [
    "#function to load Linkedin page\n",
    "def loadLinkedinPage(browser, pageNum):\n",
    "    #set index value as page number\n",
    "    i = pageNum\n",
    "    \n",
    "    time.sleep(3)\n",
    "    #navigate to page with the page number\n",
    "    button_page = browser.find_element(By.XPATH, f\"//button[@aria-label = 'Page {i}']\")\n",
    "    button_page.click()\n",
    "    time.sleep(3)\n",
    "    \n",
    "    #search for entries on the page\n",
    "    jobEntries = browser.find_elements(By.XPATH, \"//li[contains(@class, 'jobs-search-results__list-item')]\")\n",
    "    \n",
    "    #for each job entry, scroll to the entry to load job entry's html\n",
    "    for i in range(len(jobEntries)):\n",
    "        browser.execute_script(\"arguments[0].scrollIntoView();\", jobEntries[i])\n",
    "        time.sleep(0.1)"
   ]
  },
  {
   "cell_type": "markdown",
   "id": "9fa182fa",
   "metadata": {},
   "source": [
    "The below function finds the elements of job entries loaded.\n",
    "\n",
    "It clicks on each job entry and get the job title (jobTitle) and job description (jobDetail).\n",
    "\n",
    "It then pushes the job title and job detail to global lists."
   ]
  },
  {
   "cell_type": "code",
   "execution_count": 8,
   "id": "5269a0f7",
   "metadata": {},
   "outputs": [],
   "source": [
    "#function to extract data from job entries on single Linkedin page\n",
    "def extractDataFromLinkedinPage(browser):    \n",
    "    #seach for entry links\n",
    "    jobEntries = browser.find_elements(By.XPATH, \"//a[contains(@class, 'job-card-list__title')]\")\n",
    "    \n",
    "    #for each job entry, click on them and load job title and job detail\n",
    "    for i in range(len(jobEntries)):\n",
    "        jobEntries[i].click()\n",
    "        time.sleep(0.5)\n",
    "        \n",
    "        #find job title and job detail from job entry\n",
    "        jobTitle = browser.find_element(By.CLASS_NAME, \"jobs-unified-top-card__job-title\")\n",
    "        jobDetail = browser.find_element(By.ID, \"job-details\")\n",
    "\n",
    "        #save job title and job details in global arrays\n",
    "        Linkedin_jobTitles.append(jobTitle.text)\n",
    "        Linkedin_jobDetails.append(jobDetail.text)"
   ]
  },
  {
   "cell_type": "markdown",
   "id": "ebcae613",
   "metadata": {},
   "source": [
    "The below function iterate through until the global list has 1000 entries, where it returns the next page number everytime each page is used to get all entries on the page.\n",
    "\n",
    "This functions is called to get data from LinkedIn"
   ]
  },
  {
   "cell_type": "code",
   "execution_count": 9,
   "id": "ac2d701b",
   "metadata": {},
   "outputs": [],
   "source": [
    "#function to navigate through pages of Linkedin to extract data from job entries\n",
    "def extractDataFromLinkedin(browser):\n",
    "    #initialise first page number\n",
    "    pageNum = 1\n",
    "\n",
    "    #until 1000 job entries has been extracted\n",
    "    #navigate through pages and save data from job entries into global arrays (Linkedin_jobTitles, Linkedin_jobDetails)\n",
    "    while (len(Linkedin_jobTitles) < 1000):\n",
    "        loadLinkedinPage(browser, pageNum)\n",
    "        extractDataFromLinkedinPage(browser)\n",
    "        \n",
    "        #move on to the next page\n",
    "        pageNum += 1"
   ]
  },
  {
   "cell_type": "markdown",
   "id": "499caa8d",
   "metadata": {},
   "source": [
    "#### Extract data from Linkedin\n",
    "\n",
    "It first opens the browser and calls openLinkedinPage(browser) to navigate to the desired page.\n",
    "\n",
    "It then initialise the global lists to save data extracted from Linkedin.\n",
    "\n",
    "Finally, it calleds extractDataFromLinkedin(browser) to extract data from Linkedin website.\n",
    "\n",
    "After getting 1000 entries, it will close the browser."
   ]
  },
  {
   "cell_type": "code",
   "execution_count": 11,
   "id": "ee50ba64",
   "metadata": {
    "scrolled": true
   },
   "outputs": [
    {
     "name": "stderr",
     "output_type": "stream",
     "text": [
      "C:\\Users\\User\\AppData\\Local\\Temp\\ipykernel_21232\\3990238121.py:2: DeprecationWarning: executable_path has been deprecated, please pass in a Service object\n",
      "  browser = webdriver.Chrome(ChromeDriverManager().install())\n"
     ]
    }
   ],
   "source": [
    "#open browser\n",
    "browser = webdriver.Chrome(ChromeDriverManager().install())\n",
    "\n",
    "#navigate to correct Linkedin page to start web scrapping\n",
    "openLinkedinPage(browser)\n",
    "\n",
    "#initialise global lists for Linkedin data extraction\n",
    "Linkedin_jobTitles = []\n",
    "Linkedin_jobDetails = []\n",
    "\n",
    "#extract data from Linkedin\n",
    "extractDataFromLinkedin(browser)\n",
    "\n",
    "#quit browser after extracting to release server resource\n",
    "browser.quit()"
   ]
  },
  {
   "cell_type": "markdown",
   "id": "dc8694a9",
   "metadata": {},
   "source": [
    "### 5.2 Data Extraction from Indeed\n",
    "#### Funtion to open Indeed webpage\n",
    "The below function receives the page number, which loads the url with the page number.\n",
    "\n",
    "The page number of Indeed can be manipulated by passing digits in steps of 10 in front of \"start=\".\n",
    "\n",
    "Hence, the pageNum is used as relative string, which is passed to the url to get browser to navigate to indeed url with that page number."
   ]
  },
  {
   "cell_type": "code",
   "execution_count": 10,
   "id": "c957070b",
   "metadata": {},
   "outputs": [],
   "source": [
    "#function to open Indeed url of page number on browser\n",
    "#url is manipulated with parameter 'pageNum' to get access to each page\n",
    "def openIndeedPage(browser, pageNum): \n",
    "    url = f\"https://sg.indeed.com/jobs?q=software+developer&l=Singapore&sc=0kf%3Ajt%28fulltime%29%3B&fromage=14&start={pageNum}&pp=gQAPAAABhT4OZA4AAAAB8xuR4wAoAQEBB2mtEmPhX0yNMdjyQkg7aqg0V-dBgGDYNcKg7MScoc4JMpcy7wAA&vjk=0771a5a440c8eea5\"\n",
    "    browser.get(url)\n",
    "    time.sleep(5)"
   ]
  },
  {
   "cell_type": "markdown",
   "id": "2343f8d8",
   "metadata": {},
   "source": [
    "#### Funtions to extract data from Indeed\n",
    "The below function first scroll through all entries on the page and loads the elements of each entry.\n",
    "\n",
    "It then finds and save the job title (jobTitle) and job description (jobDetail) into global lists\n",
    "\n",
    "As pop-up appears on Indeed when it iterates through the pages and causes click interruption, exception handling is used. The except catches the \"ElementClickInterceptedException\" exception. When it catches, it closes pop-ups and push the entry of current index before continuing.\n",
    "\n",
    "If there is any other exceptions, skip the entry at the index and continue"
   ]
  },
  {
   "cell_type": "code",
   "execution_count": 11,
   "id": "9fb71edd",
   "metadata": {
    "scrolled": false
   },
   "outputs": [],
   "source": [
    "# function to extract data from job entries on a single Indeed page\n",
    "def extractDataFromIndeedPage(browser):\n",
    "    \n",
    "    #search for job entry links\n",
    "    jobEntries = browser.find_elements(By.XPATH, \"(//a[contains(@class, 'jcs-JobTitle')])\")\n",
    "        \n",
    "    #for each job entry, scroll to the entry and click on it\n",
    "    for i in range(len(jobEntries)):\n",
    "        #as login popups appear as it nagivate through pages, use exception handling\n",
    "        #if element cannot be clicked due to popup\n",
    "        try:\n",
    "            #navigate to job entry and click on it to load its job title and job detail\n",
    "            browser.execute_script(\"arguments[0].scrollIntoView();\", jobEntries[i])\n",
    "            jobEntries[i].click()\n",
    "            time.sleep(2)\n",
    "\n",
    "            #find job title and job detail from job entry\n",
    "            jobTitle = browser.find_element(By.CLASS_NAME, \"jobsearch-JobInfoHeader-title\")\n",
    "            jobDetail = browser.find_element(By.CLASS_NAME, \"jobsearch-jobDescriptionText\")\n",
    "    \n",
    "            #save job title and job detail in dict and save it in global lists\n",
    "            Indeed_jobTitles.append(jobTitle.text)\n",
    "            Indeed_jobDetails.append(jobDetail.text)\n",
    "\n",
    "        #when popup appears (if element cannot be clicked due to pop up)\n",
    "        except ElementClickInterceptedException:\n",
    "            #close first pop up\n",
    "            time.sleep(2)\n",
    "            closeButton_popup1 = browser.find_element(By.XPATH, \"//button[@class = 'icl-CloseButton icl-Card-close']\")\n",
    "            closeButton_popup1.click()\n",
    "            \n",
    "            #close second pop up\n",
    "            closeButtom_popup2 = browser.find_element(By.XPATH, \"//button[@class = 'icl-CloseButton icl-Modal-close']\")\n",
    "            closeButtom_popup2.click()\n",
    "            \n",
    "            #to prevent skipping the entry when the exception is caught,\n",
    "            #get data from the entry when the exception is caught before continueing to the next entry\n",
    "            jobEntries[i].click()\n",
    "            time.sleep(2)\n",
    "            jobTitle = browser.find_element(By.CLASS_NAME, \"jobsearch-JobInfoHeader-title\")\n",
    "            jobDetail = browser.find_element(By.CLASS_NAME, \"jobsearch-jobDescriptionText\")\n",
    "\n",
    "            Indeed_jobTitles.append(jobTitle.text)\n",
    "            Indeed_jobDetails.append(jobDetail.text)\n",
    "\n",
    "            continue\n",
    "            \n",
    "        except Exception as e:\n",
    "            continue"
   ]
  },
  {
   "cell_type": "markdown",
   "id": "000d0b77",
   "metadata": {},
   "source": [
    "The below function iterate through Indeed pages until global array (Indeed_jobTitles) has 1000 job entries.\n",
    "\n",
    "It will iterate every page before, where all entries on each page is pushed to the global array."
   ]
  },
  {
   "cell_type": "code",
   "execution_count": 12,
   "id": "67776b03",
   "metadata": {},
   "outputs": [],
   "source": [
    "#function to navigate through pages of Indeed to extract data from job entries\n",
    "def extractDataFromIndeed(browser):\n",
    "    #initialise first page number\n",
    "    pageNum = 0    #page 1\n",
    "\n",
    "    #until 1000 job entries has been extracted\n",
    "    while(len(Indeed_jobTitles) < 1000): #change to while\n",
    "        #navigate through each Indeed page\n",
    "        openIndeedPage(browser, pageNum)\n",
    "\n",
    "        #extract data from job entries on each page\n",
    "        extractDataFromIndeedPage(browser)\n",
    "\n",
    "        #move on to next page\n",
    "        pageNum += 10"
   ]
  },
  {
   "cell_type": "markdown",
   "id": "f29d2892",
   "metadata": {},
   "source": [
    "#### Extract data from Indeed\n",
    "This function first opens the browser and initialises the global lists to save data extracted from Indeed.\n",
    "\n",
    "It then calls extractDataFromIndeed(browser) to extract data from Indeed website.\n",
    "\n",
    "After getting 1000+ entries, it will close the browser."
   ]
  },
  {
   "cell_type": "code",
   "execution_count": null,
   "id": "7f4b4f1b",
   "metadata": {
    "scrolled": true
   },
   "outputs": [],
   "source": [
    "#open browser\n",
    "browser = webdriver.Chrome(ChromeDriverManager().install())\n",
    "\n",
    "#initialise gloal arrays for Indeed data extraction\n",
    "Indeed_jobTitles = []\n",
    "Indeed_jobDetails = []\n",
    "\n",
    "#extract data from Indeed\n",
    "extractDataFromIndeed(browser)\n",
    "\n",
    "#quit browser after extracting to release server resource\n",
    "browser.quit()"
   ]
  },
  {
   "cell_type": "markdown",
   "id": "0209fc49",
   "metadata": {},
   "source": [
    "### 5.3 Extract Data from JobStreet\n",
    "#### Function to open Jobstreet webpage\n",
    "The below function receives the page number, which loads the url with the page number.\n",
    "\n",
    "The page number of Indeed can be manipulated by passing digits of page number.\n",
    "E.g. pageNum = 1 -> page 1\n",
    "\n",
    "Hence, the pageNum is used as relative string, which is passed to the url to get browser to navigate to jobstreet url with that page number."
   ]
  },
  {
   "cell_type": "code",
   "execution_count": 14,
   "id": "f2d6bbfd",
   "metadata": {},
   "outputs": [],
   "source": [
    "#function to open JobStreet url of page number on browser\n",
    "#url is manipulated with parameter 'pageNum' to get access to each page\n",
    "def openJobstreetPage(browser, pageNum): \n",
    "    url = f\"https://www.jobstreet.com.sg/en/job-search/software-developer-jobs-in-singapore/{pageNum}/?createdAt=14d&job-type=full_time\"\n",
    "    browser.get(url)\n",
    "    time.sleep(5)"
   ]
  },
  {
   "cell_type": "markdown",
   "id": "e65d0067",
   "metadata": {},
   "source": [
    "#### Functions to extract data from Jobstreet\n",
    "below function stores url of each job entry on the Jobstreet page"
   ]
  },
  {
   "cell_type": "code",
   "execution_count": 15,
   "id": "fcac82e0",
   "metadata": {},
   "outputs": [],
   "source": [
    "def extractUrlFromJobstreetPage(browser):\n",
    "    urls = []\n",
    "    \n",
    "    jobEntries = browser.find_elements(By.XPATH, \"(//a[@target='_top'])\")\n",
    "    \n",
    "    for entry in jobEntries:\n",
    "        url = entry.get_attribute('href')\n",
    "        urls.append(url)\n",
    "    \n",
    "    return urls"
   ]
  },
  {
   "cell_type": "markdown",
   "id": "faa5c3bd",
   "metadata": {},
   "source": [
    "below function navigates to each url passes as argument and gets job title (jobTitle) and job description (jobDetail)"
   ]
  },
  {
   "cell_type": "code",
   "execution_count": 16,
   "id": "b4c9c405",
   "metadata": {},
   "outputs": [],
   "source": [
    "def extractDataFromJobstreetEntryUrl(browser, url):\n",
    "    browser.get(url)\n",
    "    time.sleep(3)\n",
    "    \n",
    "    jobTitle = browser.find_element(By.TAG_NAME, \"h1\")\n",
    "    jobDetail = browser.find_element(By.XPATH, \"//div[@data-automation = 'jobDescription']\")\n",
    "    \n",
    "    #save job title and job detail in dict and save it in global array (joblist)\n",
    "    Jobstreet_jobTitles.append(jobTitle.text)\n",
    "    Jobstreet_jobDetails.append(jobDetail.text)"
   ]
  },
  {
   "cell_type": "markdown",
   "id": "c31a8688",
   "metadata": {},
   "source": [
    "below function iterates through each page until global array (Jobstree_jobTitles) has 1000 entries\n",
    "\n",
    "It get urls of all entries on a page and iterates through each url"
   ]
  },
  {
   "cell_type": "code",
   "execution_count": 17,
   "id": "67f33007",
   "metadata": {},
   "outputs": [],
   "source": [
    "def extractDataFromJobstreet(browser):\n",
    "    pageNum = 1;\n",
    "    \n",
    "    while(len(Jobstreet_jobTitles) < 1000):\n",
    "        openJobstreetPage(browser, pageNum)\n",
    "        \n",
    "        urls = []\n",
    "        urls = extractUrlFromJobstreetPage(browser)\n",
    "        \n",
    "        for url in urls:\n",
    "            extractDataFromJobstreetEntryUrl(browser, url)\n",
    "        \n",
    "        pageNum += 1"
   ]
  },
  {
   "cell_type": "markdown",
   "id": "2560c946",
   "metadata": {},
   "source": [
    "#### Extract data from JobStreet\n",
    "\n",
    "This function first opens the browser and initialises the global lists to save data extracted from JobStreet.\n",
    "\n",
    "It then calls extractDataFromJobstreet(browser) to extract data from Jobstreet website.\n",
    "\n",
    "After getting 1000+ entries, it will close the browser."
   ]
  },
  {
   "cell_type": "code",
   "execution_count": 27,
   "id": "db6d0040",
   "metadata": {
    "scrolled": true
   },
   "outputs": [
    {
     "name": "stderr",
     "output_type": "stream",
     "text": [
      "[WDM] - Downloading: 100%|██████████| 6.58M/6.58M [00:01<00:00, 5.09MB/s]\n",
      "C:\\Users\\User\\AppData\\Local\\Temp\\ipykernel_21232\\290418048.py:2: DeprecationWarning: executable_path has been deprecated, please pass in a Service object\n",
      "  browser = webdriver.Chrome(ChromeDriverManager().install())\n"
     ]
    }
   ],
   "source": [
    "#open browser\n",
    "browser = webdriver.Chrome(ChromeDriverManager().install())\n",
    "\n",
    "#initialise global arrays for Jobstreet data extraction\n",
    "Jobstreet_jobTitles = []\n",
    "Jobstreet_jobDetails = []\n",
    "\n",
    "#extract data from Jobstreet\n",
    "extractDataFromJobstreet(browser)\n",
    "\n",
    "#quit browser after extracting to release server resource\n",
    "browser.quit()"
   ]
  },
  {
   "cell_type": "markdown",
   "id": "128f2f66",
   "metadata": {},
   "source": [
    "If there is equal number of job titles and job details for each website and the number exceed 1000, it means it has acquired correct number of job entries from each job protal.\n",
    "\n",
    "Hence, it can be checked using length of each global lists."
   ]
  },
  {
   "cell_type": "code",
   "execution_count": 19,
   "id": "ea30c5f4",
   "metadata": {},
   "outputs": [
    {
     "name": "stdout",
     "output_type": "stream",
     "text": [
      "Number of job titles scraped from Linkedin : 1000\n",
      "Number of job details scraped from Linkedin : 1000\n",
      "Number of job titles scraped from Indeed : 1012\n",
      "Number of job titles scraped from Indeed : 1012\n",
      "Number of job titles scraped from JobStreet : 1020\n",
      "Number of job titles scraped from JobStreet : 1020\n"
     ]
    }
   ],
   "source": [
    "print(\"Number of job titles scraped from Linkedin : \" + str(len(Linkedin_jobTitles)))\n",
    "print(\"Number of job details scraped from Linkedin : \" + str(len(Linkedin_jobDetails)))\n",
    "\n",
    "print(\"Number of job titles scraped from Indeed : \" + str(len(Indeed_jobTitles)))\n",
    "print(\"Number of job titles scraped from Indeed : \" + str(len(Indeed_jobDetails)))\n",
    "\n",
    "print(\"Number of job titles scraped from JobStreet : \" + str(len(Jobstreet_jobTitles)))\n",
    "print(\"Number of job titles scraped from JobStreet : \" + str(len(Jobstreet_jobDetails)))"
   ]
  },
  {
   "cell_type": "markdown",
   "id": "a7c2099d",
   "metadata": {},
   "source": [
    "### 5.4 Save Data (Job Entries) as CSV\n",
    "#### Function to save data as CSV\n",
    "The below function uses pandas to create dataframe with two coloumns, job title and job detail.\n",
    "\n",
    "It uses the pageName argument to use it as relative string to save the file with website name"
   ]
  },
  {
   "cell_type": "code",
   "execution_count": 45,
   "id": "5da9d242",
   "metadata": {},
   "outputs": [],
   "source": [
    "def saveDataAsCSV(jobTitles, jobDetails, pageName):\n",
    "    df = pd.DataFrame({\"Job Title\":jobTitles, \"Job Detail\":jobDetails})\n",
    "    \n",
    "    df.to_csv(f\"{pageName}_jobData\", index = False)"
   ]
  },
  {
   "cell_type": "markdown",
   "id": "c5bde70c",
   "metadata": {},
   "source": [
    "#### Save data webpages as CSV\n",
    "\n",
    "Save the job titles and job details scrapped from each webpage with the webpage name"
   ]
  },
  {
   "cell_type": "code",
   "execution_count": 46,
   "id": "b48809bc",
   "metadata": {},
   "outputs": [],
   "source": [
    "#save Linkedin data as csv file\n",
    "saveDataAsCSV(Linkedin_jobTitles, Linkedin_jobDetails, \"Linkedin\")\n",
    "\n",
    "#save Indeed data as csv file\n",
    "saveDataAsCSV(Indeed_jobTitles, Indeed_jobDetails, \"Indeed\")\n",
    "\n",
    "#save Jobstreet data as csv file\n",
    "saveDataAsCSV(Jobstreet_jobTitles, Jobstreet_jobDetails, \"Jobstreet\")"
   ]
  },
  {
   "cell_type": "markdown",
   "id": "d69dc32e",
   "metadata": {},
   "source": [
    "### 5.5 Get list of programming languages\n",
    "As there are many programming languages, get the top 50 programming lanuages for later analysis"
   ]
  },
  {
   "cell_type": "code",
   "execution_count": 48,
   "id": "8eb7fee6",
   "metadata": {
    "scrolled": true
   },
   "outputs": [
    {
     "name": "stderr",
     "output_type": "stream",
     "text": [
      "C:\\Users\\User\\AppData\\Local\\Temp\\ipykernel_21232\\4196439247.py:2: DeprecationWarning: executable_path has been deprecated, please pass in a Service object\n",
      "  browser = webdriver.Chrome(ChromeDriverManager().install())\n"
     ]
    }
   ],
   "source": [
    "#open browser\n",
    "browser = webdriver.Chrome(ChromeDriverManager().install())\n",
    "\n",
    "#navigate to the url that has program language rankings\n",
    "pl_url = \"https://www.tiobe.com/tiobe-index/\"\n",
    "browser.get(pl_url)\n",
    "\n",
    "#initialize global list of programming language name(will have total of 50 programming languages)\n",
    "programming_lang = []\n",
    "\n",
    "#from the table with rank 1 -20, get the top 20 programming langauge names\n",
    "top20 = browser.find_elements(By.XPATH, \"//table[@id = 'top20']/tbody/tr\")\n",
    "\n",
    "for i in range(0, len(top20), 1):\n",
    "    lang = top20[i].find_elements(By. TAG_NAME, \"td\")[4]\n",
    "    programming_lang.append(lang.text.lower())\n",
    "\n",
    "#from the table with rank 21-50, get the other 30 programming lanuage names \n",
    "other30 = browser.find_elements(By.XPATH, \"//table[@id = 'otherPL']/tbody/tr\")\n",
    "\n",
    "for i in range(0, len(other30), 1):\n",
    "    lang = other30[i].find_elements(By. TAG_NAME, \"td\")[1]\n",
    "    programming_lang.append(lang.text.lower())\n",
    "    \n",
    "#quit browser after it is done\n",
    "browser.quit()"
   ]
  },
  {
   "cell_type": "code",
   "execution_count": 49,
   "id": "8f1b8858",
   "metadata": {},
   "outputs": [
    {
     "name": "stdout",
     "output_type": "stream",
     "text": [
      "['python', 'c', 'c++', 'java', 'c#', 'visual basic', 'javascript', 'sql', 'assembly language', 'php', 'swift', 'go', 'r', 'classic visual basic', 'matlab', 'ruby', 'delphi/object pascal', 'rust', 'perl', 'scratch', '(visual) foxpro', 'sas', 'objective-c', 'lua', 'kotlin', 'ada', 'fortran', 'lisp', 'julia', 'transact-sql', 'cobol', 'scala', 'f#', 'logo', 'typescript', 'groovy', 'bash', 'dart', 'rpg', 'pl/sql', 'powershell', 'awk', 'prolog', 'cfml', 'haskell', 'd', 'labview', 'scheme', 'abap', 'ocaml']\n"
     ]
    }
   ],
   "source": [
    "#check if list of programming language is acquired\n",
    "print(programming_lang)"
   ]
  },
  {
   "cell_type": "markdown",
   "id": "9783eabc",
   "metadata": {},
   "source": [
    "## 6. Data Cleaning and Processing\n",
    "There are several data cleaning techniques used for data cleaning and processing of job descriptions of software developer acquired from previous chapter of this report. In this progress, I used Regular Expression (re) and Natural Language Toolkit (nltk) libraries.\n",
    "\n",
    "re library is used for pattern matching within the string. I used it to find if some of specific word appears in the string. NLTK lib is one of the most popular library for natural language processing (nlp). It has many built-in functions that helps in nlp. It also has many libraries for corpus of different areas.\n",
    "\n",
    "Before the data cleaning, all strings are converted to lower case to reduce the steps in language processing.\n",
    "\n",
    "As mentioned ealier in this report, the job descriptions are not posted in uniform format and thus the whole description job were taken from it. Each job description contains the the job requirements, but with different labels and notations. Hence it is important extract the job requirements from it. For this, regular expression library is used to find the keywords of job requirement labels, which is further explained later. Partition of job description is made using the keywords of job requriement labels. Limitation of this method is that the data might still have other job descriptions that are not related to the job requirements but that could not be covered within this research due to lack of skills. However, I think that it would not make a big impact on the result of data analysis.\n",
    "\n",
    "After extracting the job requirements, Natural Language processing technique is used with nltk library to process the data for analysis. I used tokenising and lemmetization to clean the data strings. By processing the strings, it would allow better analysis using frequency distributions.\n",
    "\n",
    "Firstly, the data extracted from the three job portals were loaded"
   ]
  },
  {
   "cell_type": "code",
   "execution_count": 50,
   "id": "766a2bdd",
   "metadata": {},
   "outputs": [],
   "source": [
    "df_Linkedin = pd.read_csv(\"Linkedin_jobData\")\n",
    "df_Indeed = pd.read_csv(\"Indeed_jobData\")\n",
    "df_Jobstreet = pd.read_csv(\"Jobstreet_jobData\")"
   ]
  },
  {
   "cell_type": "code",
   "execution_count": 119,
   "id": "adab5d7e",
   "metadata": {},
   "outputs": [
    {
     "data": {
      "text/html": [
       "<div>\n",
       "<style scoped>\n",
       "    .dataframe tbody tr th:only-of-type {\n",
       "        vertical-align: middle;\n",
       "    }\n",
       "\n",
       "    .dataframe tbody tr th {\n",
       "        vertical-align: top;\n",
       "    }\n",
       "\n",
       "    .dataframe thead th {\n",
       "        text-align: right;\n",
       "    }\n",
       "</style>\n",
       "<table border=\"1\" class=\"dataframe\">\n",
       "  <thead>\n",
       "    <tr style=\"text-align: right;\">\n",
       "      <th></th>\n",
       "      <th>Job Title</th>\n",
       "      <th>Job Detail</th>\n",
       "    </tr>\n",
       "  </thead>\n",
       "  <tbody>\n",
       "    <tr>\n",
       "      <th>0</th>\n",
       "      <td>Algorithm Engineer - AML Engine Dedup</td>\n",
       "      <td>Responsibilities\\n\\nTikTok is the leading dest...</td>\n",
       "    </tr>\n",
       "    <tr>\n",
       "      <th>1</th>\n",
       "      <td>IT Security Officer</td>\n",
       "      <td>Want to be a part of our team?\\n\\nDevelops and...</td>\n",
       "    </tr>\n",
       "    <tr>\n",
       "      <th>2</th>\n",
       "      <td>Senior Firmware Engineer</td>\n",
       "      <td>Job description:\\n\\nDesign and implement softw...</td>\n",
       "    </tr>\n",
       "    <tr>\n",
       "      <th>3</th>\n",
       "      <td>Sharepoint Developer</td>\n",
       "      <td>Hands-on delivery is required\\n Understand cl...</td>\n",
       "    </tr>\n",
       "    <tr>\n",
       "      <th>4</th>\n",
       "      <td>Software Engineer (System Integrator)</td>\n",
       "      <td>Job description:\\n\\nKey Responsibilities:\\n\\nS...</td>\n",
       "    </tr>\n",
       "  </tbody>\n",
       "</table>\n",
       "</div>"
      ],
      "text/plain": [
       "                               Job Title  \\\n",
       "0  Algorithm Engineer - AML Engine Dedup   \n",
       "1                    IT Security Officer   \n",
       "2               Senior Firmware Engineer   \n",
       "3                   Sharepoint Developer   \n",
       "4  Software Engineer (System Integrator)   \n",
       "\n",
       "                                          Job Detail  \n",
       "0  Responsibilities\\n\\nTikTok is the leading dest...  \n",
       "1  Want to be a part of our team?\\n\\nDevelops and...  \n",
       "2  Job description:\\n\\nDesign and implement softw...  \n",
       "3   Hands-on delivery is required\\n Understand cl...  \n",
       "4  Job description:\\n\\nKey Responsibilities:\\n\\nS...  "
      ]
     },
     "execution_count": 119,
     "metadata": {},
     "output_type": "execute_result"
    }
   ],
   "source": [
    "#check if the csv file is read correctly\n",
    "df_Linkedin[:5]"
   ]
  },
  {
   "cell_type": "code",
   "execution_count": 118,
   "id": "02af1eca",
   "metadata": {},
   "outputs": [
    {
     "data": {
      "text/html": [
       "<div>\n",
       "<style scoped>\n",
       "    .dataframe tbody tr th:only-of-type {\n",
       "        vertical-align: middle;\n",
       "    }\n",
       "\n",
       "    .dataframe tbody tr th {\n",
       "        vertical-align: top;\n",
       "    }\n",
       "\n",
       "    .dataframe thead th {\n",
       "        text-align: right;\n",
       "    }\n",
       "</style>\n",
       "<table border=\"1\" class=\"dataframe\">\n",
       "  <thead>\n",
       "    <tr style=\"text-align: right;\">\n",
       "      <th></th>\n",
       "      <th>Job Title</th>\n",
       "      <th>Job Detail</th>\n",
       "    </tr>\n",
       "  </thead>\n",
       "  <tbody>\n",
       "    <tr>\n",
       "      <th>0</th>\n",
       "      <td>Software Developer\\n- job post</td>\n",
       "      <td>Who are we looking for?\\n\\nCandidate must poss...</td>\n",
       "    </tr>\n",
       "    <tr>\n",
       "      <th>1</th>\n",
       "      <td>Junior Software Engineer\\n- job post</td>\n",
       "      <td>JOB DESCRIPTION\\nTo design and develop high pe...</td>\n",
       "    </tr>\n",
       "    <tr>\n",
       "      <th>2</th>\n",
       "      <td>Software Development Engineer (Frontend)\\n- jo...</td>\n",
       "      <td>About ASUS\\nAICS is part of ASUS, a multinatio...</td>\n",
       "    </tr>\n",
       "    <tr>\n",
       "      <th>3</th>\n",
       "      <td>Systems Engineer (Cloud, AWS) Permanent role $...</td>\n",
       "      <td>Systems Engineer (Cloud, AWS) Permanent role $...</td>\n",
       "    </tr>\n",
       "    <tr>\n",
       "      <th>4</th>\n",
       "      <td>Software Engineer (Entry Level Welcome / MNC)\\...</td>\n",
       "      <td>Attractive Bonuses\\n5-day Work Week\\nTraining ...</td>\n",
       "    </tr>\n",
       "  </tbody>\n",
       "</table>\n",
       "</div>"
      ],
      "text/plain": [
       "                                           Job Title  \\\n",
       "0                     Software Developer\\n- job post   \n",
       "1               Junior Software Engineer\\n- job post   \n",
       "2  Software Development Engineer (Frontend)\\n- jo...   \n",
       "3  Systems Engineer (Cloud, AWS) Permanent role $...   \n",
       "4  Software Engineer (Entry Level Welcome / MNC)\\...   \n",
       "\n",
       "                                          Job Detail  \n",
       "0  Who are we looking for?\\n\\nCandidate must poss...  \n",
       "1  JOB DESCRIPTION\\nTo design and develop high pe...  \n",
       "2  About ASUS\\nAICS is part of ASUS, a multinatio...  \n",
       "3  Systems Engineer (Cloud, AWS) Permanent role $...  \n",
       "4  Attractive Bonuses\\n5-day Work Week\\nTraining ...  "
      ]
     },
     "execution_count": 118,
     "metadata": {},
     "output_type": "execute_result"
    }
   ],
   "source": [
    "#check if the csv file is read correctly\n",
    "df_Indeed[:5]"
   ]
  },
  {
   "cell_type": "code",
   "execution_count": 117,
   "id": "cc81a858",
   "metadata": {
    "scrolled": true
   },
   "outputs": [
    {
     "data": {
      "text/html": [
       "<div>\n",
       "<style scoped>\n",
       "    .dataframe tbody tr th:only-of-type {\n",
       "        vertical-align: middle;\n",
       "    }\n",
       "\n",
       "    .dataframe tbody tr th {\n",
       "        vertical-align: top;\n",
       "    }\n",
       "\n",
       "    .dataframe thead th {\n",
       "        text-align: right;\n",
       "    }\n",
       "</style>\n",
       "<table border=\"1\" class=\"dataframe\">\n",
       "  <thead>\n",
       "    <tr style=\"text-align: right;\">\n",
       "      <th></th>\n",
       "      <th>Job Title</th>\n",
       "      <th>Job Detail</th>\n",
       "    </tr>\n",
       "  </thead>\n",
       "  <tbody>\n",
       "    <tr>\n",
       "      <th>0</th>\n",
       "      <td>Software Developer / Senior Software Developer...</td>\n",
       "      <td>As a Software Developer with our company, you’...</td>\n",
       "    </tr>\n",
       "    <tr>\n",
       "      <th>1</th>\n",
       "      <td>Software Developer #JobsThatMatter</td>\n",
       "      <td>The Software Developer will be part of our ser...</td>\n",
       "    </tr>\n",
       "    <tr>\n",
       "      <th>2</th>\n",
       "      <td>Senior Software Developer</td>\n",
       "      <td>Responsibilities:\\nTo develop company’s missio...</td>\n",
       "    </tr>\n",
       "    <tr>\n",
       "      <th>3</th>\n",
       "      <td>Backend Developer</td>\n",
       "      <td>Position title : Backend Developer\\nLocation: ...</td>\n",
       "    </tr>\n",
       "    <tr>\n",
       "      <th>4</th>\n",
       "      <td>APPLICATION DEVELOPER</td>\n",
       "      <td>Job Description: \\nManage both front-end and b...</td>\n",
       "    </tr>\n",
       "  </tbody>\n",
       "</table>\n",
       "</div>"
      ],
      "text/plain": [
       "                                           Job Title  \\\n",
       "0  Software Developer / Senior Software Developer...   \n",
       "1                 Software Developer #JobsThatMatter   \n",
       "2                          Senior Software Developer   \n",
       "3                                  Backend Developer   \n",
       "4                              APPLICATION DEVELOPER   \n",
       "\n",
       "                                          Job Detail  \n",
       "0  As a Software Developer with our company, you’...  \n",
       "1  The Software Developer will be part of our ser...  \n",
       "2  Responsibilities:\\nTo develop company’s missio...  \n",
       "3  Position title : Backend Developer\\nLocation: ...  \n",
       "4  Job Description: \\nManage both front-end and b...  "
      ]
     },
     "execution_count": 117,
     "metadata": {},
     "output_type": "execute_result"
    }
   ],
   "source": [
    "#check if the csv file is read correctly\n",
    "df_Jobstreet[:5]"
   ]
  },
  {
   "cell_type": "markdown",
   "id": "365e3dda",
   "metadata": {},
   "source": [
    "### 6.1 Find Job Requirement Lable Keywords\n",
    "The function below takes the two most common keyowrds of job requirements labels, \"qualification\" and \"requirement\", and check if the job description has the two keywords.\n",
    "\n",
    "The two keywords are determined by visual inspection, where those two words are often used for job requirement label but seldom used in job description texts.\n",
    "\n",
    "It will count the number of word encounters of the two words. If the common keywords are not found in the job description, the indices would be shown on the array, for visual inspection and check what are the labels used for them.\n",
    "\n",
    "If it finds invalid job details, it will switch the job detail to \"not available\" using exception handling.\n",
    "\n",
    "This is manual way of finding the keywords but there are too many exceptions to consider due to the irrgularity of the posts."
   ]
  },
  {
   "cell_type": "code",
   "execution_count": 107,
   "id": "5baebaff",
   "metadata": {},
   "outputs": [],
   "source": [
    "def countKeywords(df):\n",
    "    count_qualification = 0\n",
    "    count_requirement = 0\n",
    "    count_others = 0\n",
    "    \n",
    "    others_array = []\n",
    "    \n",
    "    for i in range(len(df)):\n",
    "        try:\n",
    "            string = df.loc[i, \"Job Detail\"].rstrip().lower()\n",
    "            \n",
    "            #add 1 to qualification count when word 'qualification' is found\n",
    "            if(re.findall(\"qualification\", string)):\n",
    "                count_qualification += 1\n",
    "            #add 1 to qualification count when word 'requirement' is found\n",
    "            elif(re.findall(\"requirement\", string)):\n",
    "                count_requirement += 1\n",
    "            #if both words cant be found add 1 to others cound and append the index\n",
    "            elif not(re.findall(\"qualification\", string) and re.findall(\"requirement\", string)):\n",
    "                count_others += 1\n",
    "                others_array.append(i)\n",
    "        #if no strings is found in the job detail\n",
    "        except AttributeError:\n",
    "            df.loc[i, \"Job Detail\"] = 'not available'\n",
    "            continue\n",
    "    \n",
    "    print(f\"Number of entries with qualification(s): {count_qualification}\")\n",
    "    print(f\"Number of entries with requirement(s): {count_requirement}\")\n",
    "    print(f\"Number of entries with others: {count_others}\")\n",
    "    print(\"Indices of entries with other notations are the following\")\n",
    "    print(others_array)"
   ]
  },
  {
   "cell_type": "markdown",
   "id": "07f495f7",
   "metadata": {},
   "source": [
    "Check the word encounter of the two common keywords from the data extracted from the job portals and return the indices of entries for search of other keywords for job requirement labels"
   ]
  },
  {
   "cell_type": "code",
   "execution_count": 108,
   "id": "f9ee7299",
   "metadata": {
    "scrolled": false
   },
   "outputs": [
    {
     "name": "stdout",
     "output_type": "stream",
     "text": [
      "Number of entries with qualification(s): 366\n",
      "Number of entries with requirement(s): 438\n",
      "Number of entries with others: 196\n",
      "Indices of entries with other notations are the following\n",
      "[1, 26, 27, 31, 39, 44, 49, 57, 59, 62, 66, 69, 77, 79, 80, 86, 87, 92, 93, 95, 96, 107, 120, 121, 130, 133, 134, 140, 151, 152, 158, 172, 174, 186, 198, 213, 217, 219, 220, 231, 246, 259, 265, 273, 277, 281, 282, 286, 287, 290, 295, 302, 311, 316, 321, 323, 327, 328, 336, 337, 342, 348, 349, 350, 356, 358, 364, 365, 366, 367, 368, 370, 382, 385, 387, 396, 398, 403, 406, 411, 412, 413, 422, 423, 433, 434, 436, 443, 448, 450, 453, 457, 462, 465, 468, 471, 476, 484, 490, 494, 498, 499, 500, 512, 518, 528, 549, 551, 557, 562, 576, 594, 608, 616, 623, 624, 626, 630, 637, 640, 650, 653, 661, 663, 668, 678, 683, 684, 695, 715, 735, 739, 742, 745, 747, 753, 756, 759, 761, 762, 767, 771, 777, 783, 787, 788, 791, 793, 794, 795, 802, 803, 807, 808, 809, 810, 826, 827, 828, 831, 832, 833, 844, 847, 854, 859, 860, 862, 863, 865, 867, 869, 870, 871, 873, 876, 888, 891, 894, 895, 899, 903, 905, 917, 921, 926, 940, 943, 953, 979, 983, 985, 987, 990, 994, 996]\n",
      "Number of entries with qualification(s): 193\n",
      "Number of entries with requirement(s): 628\n",
      "Number of entries with others: 191\n",
      "Indices of entries with other notations are the following\n",
      "[5, 12, 23, 31, 40, 49, 58, 63, 68, 72, 74, 79, 81, 88, 89, 97, 98, 99, 103, 105, 108, 124, 129, 130, 145, 152, 171, 191, 205, 208, 211, 220, 221, 230, 232, 234, 235, 236, 245, 254, 260, 265, 268, 271, 273, 288, 294, 295, 299, 305, 307, 309, 314, 315, 322, 331, 338, 339, 346, 353, 354, 361, 368, 369, 376, 383, 384, 391, 398, 399, 406, 413, 414, 421, 428, 429, 436, 443, 445, 451, 458, 461, 466, 473, 476, 481, 488, 491, 496, 503, 506, 511, 518, 521, 526, 533, 536, 541, 548, 550, 556, 563, 565, 571, 578, 580, 586, 593, 595, 601, 608, 610, 616, 623, 625, 631, 638, 641, 646, 653, 656, 661, 668, 671, 676, 683, 686, 691, 698, 701, 706, 713, 716, 721, 728, 731, 736, 743, 746, 751, 758, 761, 766, 773, 776, 781, 788, 791, 796, 803, 806, 811, 818, 821, 826, 833, 836, 841, 848, 851, 856, 863, 866, 871, 878, 881, 886, 893, 896, 901, 908, 911, 916, 923, 926, 931, 938, 941, 946, 953, 956, 961, 968, 971, 976, 983, 986, 991, 998, 1001, 1006]\n",
      "Number of entries with qualification(s): 409\n",
      "Number of entries with requirement(s): 414\n",
      "Number of entries with others: 197\n",
      "Indices of entries with other notations are the following\n",
      "[5, 18, 26, 33, 36, 39, 42, 47, 49, 51, 52, 75, 79, 93, 101, 138, 144, 149, 165, 169, 190, 205, 208, 228, 229, 238, 249, 251, 252, 261, 263, 275, 277, 282, 295, 298, 299, 318, 324, 329, 336, 338, 343, 347, 352, 355, 358, 378, 384, 385, 386, 387, 388, 390, 391, 392, 394, 396, 399, 405, 412, 414, 415, 426, 431, 443, 444, 448, 455, 463, 470, 474, 476, 478, 497, 501, 504, 511, 519, 524, 525, 527, 528, 535, 550, 556, 557, 565, 574, 575, 578, 579, 580, 582, 586, 589, 592, 593, 601, 605, 606, 611, 631, 632, 636, 637, 638, 644, 647, 648, 650, 651, 652, 657, 660, 663, 668, 673, 674, 679, 680, 698, 712, 715, 716, 723, 726, 727, 730, 732, 745, 747, 748, 749, 755, 781, 791, 799, 802, 803, 805, 807, 816, 817, 824, 832, 835, 837, 851, 862, 869, 871, 874, 875, 878, 881, 884, 885, 888, 889, 894, 895, 897, 902, 903, 915, 917, 922, 923, 928, 929, 931, 942, 944, 946, 956, 964, 965, 966, 978, 982, 987, 988, 990, 992, 994, 995, 997, 998, 999, 1000, 1001, 1006, 1007, 1010, 1011, 1016]\n"
     ]
    }
   ],
   "source": [
    "countKeywords(df_Linkedin)\n",
    "countKeywords(df_Indeed)\n",
    "countKeywords(df_Jobstreet)"
   ]
  },
  {
   "cell_type": "code",
   "execution_count": 95,
   "id": "613e559c",
   "metadata": {},
   "outputs": [],
   "source": [
    "#List of keywords found from visual inspection\n",
    "keywords = [\"qualification\", \"requirement\", \"skill\", \"expertise\", \"knowledge\", \"who\", \"suceed\", \"sucess\"]"
   ]
  },
  {
   "cell_type": "markdown",
   "id": "53a6ae34",
   "metadata": {},
   "source": [
    "### 6.2 Extract Job Requirement from Job Description\n",
    "The function below takes the keywords to find if there is any match within the string.\n",
    "\n",
    "If there is one of the keywords, it will split the string using the keyword, takes the string after the keyword and save it to job requirement list. Otherwise, it would just append the job description into the job_requirements.\n",
    "\n",
    "This helps to reduce the amount of unnessary texts that are not related job requirements. Since the whole job descriptions were take from web dues to inconsisntent format of posting, this helps to resolve the problem of validity of the datajob descriptions having ."
   ]
  },
  {
   "cell_type": "code",
   "execution_count": 96,
   "id": "eb7863a4",
   "metadata": {},
   "outputs": [],
   "source": [
    "def getJobRequirements(df):\n",
    "    job_requirements = []\n",
    "    \n",
    "    for i in range(len(df)):\n",
    "        \n",
    "        #convert all words of the entry[i] to lowercase\n",
    "        string = df.loc[i, \"Job Detail\"].rstrip().lower()\n",
    "        \n",
    "        for j in range(len(keywords)):\n",
    "            #if match is found in one of the keywords\n",
    "            if(re.findall(keywords[j], string)):\n",
    "                #split the string using the keyword\n",
    "                before_keyword, keyword, after_keyword = string.partition(keywords[j])\n",
    "                #take the string after the keyword and save it to the list \"job_requirements\"\n",
    "                job_requirements.append(after_keyword)\n",
    "                #after finding the job requirement, move on to the next entry\n",
    "                break\n",
    "            #if no match if found\n",
    "            elif(j == len(keywords) - 1):\n",
    "                #take the whole string as the job requirement\n",
    "                job_requirements.append(string)\n",
    "    \n",
    "    #return list with job requirements\n",
    "    return job_requirements"
   ]
  },
  {
   "cell_type": "markdown",
   "id": "13a6d19d",
   "metadata": {},
   "source": [
    "The function below takes job requirements acquired from the above function and create new dataframe with existing job titles."
   ]
  },
  {
   "cell_type": "code",
   "execution_count": 97,
   "id": "cb62c83f",
   "metadata": {
    "scrolled": true
   },
   "outputs": [],
   "source": [
    "def createDataframeWithJobReq(df):\n",
    "    #copy the first column (job title) as new dataframe\n",
    "    df2 = df.iloc[: , [0]].copy()\n",
    "\n",
    "    job_requirements = getJobRequirements(df)\n",
    "\n",
    "    df2['Job Requirement'] = job_requirements\n",
    "    \n",
    "    return df2"
   ]
  },
  {
   "cell_type": "markdown",
   "id": "4e25e7f7",
   "metadata": {},
   "source": [
    "### 6.3 Natural Language Processing"
   ]
  },
  {
   "cell_type": "markdown",
   "id": "794dae72",
   "metadata": {},
   "source": [
    "The below function does natural language processing with the job requirements.\n",
    "\n",
    "It first takes the job requirement string from each entry and tokensise it.\n",
    "\n",
    "Using the list of tokenised word, it remove the stopwords from the list. The stopwords are from nltk lib. It helps to remove the words that gives no information, such as pronouns.\n",
    "\n",
    "If same word appears in different form, it would count as two different word encount. Hence, it is important to make words in different forms to be in the same form. Using the list of tokenised word without the stopwords, it lemmitizes the string for context analysis of word frequecy distribution.  "
   ]
  },
  {
   "cell_type": "code",
   "execution_count": 98,
   "id": "feade80b",
   "metadata": {},
   "outputs": [],
   "source": [
    "def cleanJobRequirement(df):\n",
    "    tokenizer = nltk.RegexpTokenizer(r\"\\w+\")\n",
    "    wordnet = WordNetLemmatizer()\n",
    "    \n",
    "    jobReq_cleaned = []\n",
    "    \n",
    "    #for each entry in the datafame\n",
    "    for i in range(len(df)):\n",
    "        #take the string of job requirement for each entry\n",
    "        string = df.loc[i, \"Job Requirement\"]\n",
    "        \n",
    "        #tokenise the string into words using nltk lib\n",
    "        tokenized_words = tokenizer.tokenize(string)\n",
    "        \n",
    "        no_stopwords = []\n",
    "        \n",
    "        #for all words in tokenised_word, only save the words that are not in the stopwords list\n",
    "        #result in removing stopwords from the tokenised words\n",
    "        for word in tokenized_words:\n",
    "            if not word in stopwords.words('english'):\n",
    "                no_stopwords.append(word)\n",
    "        \n",
    "        lemmetized_words = []\n",
    "\n",
    "        #for all words in no_stopwords, lemmitize the words\n",
    "        for word in no_stopwords:\n",
    "            lemmetized_words.append(wordnet.lemmatize(word))\n",
    "            \n",
    "        jobReq_cleaned.append(lemmetized_words)\n",
    "    \n",
    "    #return the strings of entries with tokenised and lemmitized words with no stopwords\n",
    "    return jobReq_cleaned"
   ]
  },
  {
   "cell_type": "markdown",
   "id": "80394cd1",
   "metadata": {},
   "source": [
    "The function below takes processed job requirements data acquired from the above function and create new dataframe with existing job titles and job requirement.\n",
    "\n",
    "To validate that all entries are processed, it uses the job requirement, which is used to compare the tokensied words of cleaned job requirements data. Job titles is used to validate that there are enough indices in the dataframe. If it does not return an error, it means that job requirements of all entries are processed\n",
    "\n",
    "These are the ways used to validate that job requirement of all entries are processed.\n",
    "\n",
    "The unprocessed and processed job requirement data are used to compare with word counts using the built-in function: split()."
   ]
  },
  {
   "cell_type": "code",
   "execution_count": 99,
   "id": "a0855d06",
   "metadata": {},
   "outputs": [],
   "source": [
    "def createDataframeAftCleaning(df):\n",
    "    \n",
    "    df2 = df.iloc[: , [0, 1]].copy()\n",
    "\n",
    "    job_req_cleaned = cleanJobRequirement(df)\n",
    "\n",
    "    df2['Job Requirement After Cleaning'] = job_req_cleaned\n",
    "    \n",
    "    wordCount_org = []\n",
    "    \n",
    "    for i in range(len(df)):\n",
    "        string = df.loc[i, \"Job Requirement\"]\n",
    "        wordCount = len(string.split())\n",
    "        wordCount_org.append(wordCount)\n",
    "    \n",
    "    df2['JobReq: Original word count'] = wordCount_org\n",
    "    \n",
    "    wordCount_tokenized = []\n",
    "    \n",
    "    for i in range(len(df)):\n",
    "        string = job_req_cleaned[i]\n",
    "        wordCount = len(string)\n",
    "        wordCount_tokenized.append(wordCount)\n",
    "    \n",
    "    df2['Job Req org word count'] = wordCount_tokenized\n",
    "    \n",
    "    return df2"
   ]
  },
  {
   "cell_type": "markdown",
   "id": "1c9fb63d",
   "metadata": {},
   "source": [
    "The dataframes of each web portals are combined together with new indices as comparison of the website is not the part of scope of the studies.\n",
    "\n",
    "New dataframes are created using the above functions that are explained earlier on."
   ]
  },
  {
   "cell_type": "code",
   "execution_count": 109,
   "id": "b17063e3",
   "metadata": {
    "scrolled": true
   },
   "outputs": [],
   "source": [
    "frames = [df_Linkedin, df_Indeed, df_Jobstreet]\n",
    "\n",
    "df_jobEntries = pd.concat(frames, ignore_index=True)\n",
    "\n",
    "df_jobEntries_jobReq = createDataframeWithJobReq(df_jobEntries)\n",
    "\n",
    "df_jobEntries_final = createDataframeAftCleaning(df_jobEntries_jobReq)"
   ]
  },
  {
   "cell_type": "markdown",
   "id": "c33f092e",
   "metadata": {},
   "source": [
    "## 7. Data Analysis\n",
    "The analysis on job requirements of software development is done mainly by word frequency distribution using word cloud and matplotlib.\n",
    "\n",
    "Matplotlib provides various functions to plot graphs. It has many built-in functions to plot the graph, from simple graphs like line graph to complex graphs like boxplot.\n",
    "\n",
    "WordCloud helps to visualise the frequecy distribution of words by showing words in different sizes. The words with higher frequencies are shown in bigger words and the words with lower frequencies are shown in smaller words.\n",
    "\n",
    "I am going to make use of those libraries to make analaysis on the processed data of job entries.\n",
    "\n",
    "### 7.1 Desired Programming Language in the Field of Software Developer\n",
    "This analysis can be acheived by finding word frequency distribution \n",
    "\n",
    "Firstly, dictionary 'count_progLang' is created, where the programming language is used as the keys and values assigned it '0' for each language. The dictionary is used to count word encounter of each key in each processed data of job requirement and save the count in the value."
   ]
  },
  {
   "cell_type": "code",
   "execution_count": 110,
   "id": "d2508eb5",
   "metadata": {},
   "outputs": [
    {
     "name": "stdout",
     "output_type": "stream",
     "text": [
      "{'python': 0, 'c': 0, 'c++': 0, 'java': 0, 'c#': 0, 'visual basic': 0, 'javascript': 0, 'sql': 0, 'assembly language': 0, 'php': 0, 'swift': 0, 'go': 0, 'r': 0, 'classic visual basic': 0, 'matlab': 0, 'ruby': 0, 'delphi/object pascal': 0, 'rust': 0, 'perl': 0, 'scratch': 0, '(visual) foxpro': 0, 'sas': 0, 'objective-c': 0, 'lua': 0, 'kotlin': 0, 'ada': 0, 'fortran': 0, 'lisp': 0, 'julia': 0, 'transact-sql': 0, 'cobol': 0, 'scala': 0, 'f#': 0, 'logo': 0, 'typescript': 0, 'groovy': 0, 'bash': 0, 'dart': 0, 'rpg': 0, 'pl/sql': 0, 'powershell': 0, 'awk': 0, 'prolog': 0, 'cfml': 0, 'haskell': 0, 'd': 0, 'labview': 0, 'scheme': 0, 'abap': 0, 'ocaml': 0}\n"
     ]
    }
   ],
   "source": [
    "#conver list of prgramming languages to dictionary as keys with value 0\n",
    "count_progLang = dict.fromkeys(programming_lang, 0)\n",
    "\n",
    "#check if dictionary is created correctly\n",
    "print(count_progLang)"
   ]
  },
  {
   "cell_type": "markdown",
   "id": "35f76df2",
   "metadata": {},
   "source": [
    "Using nltk frequency distribution function, cleaned and processed job requirement in each entry has its word counts. The word count is returned as dictionary, where the key is the word and the value is the number of times the word appeared. The key of word count is used to match with the keys of the count_progLang dictionary. When it matches, the value of matched key in word count is added to the existing vaue of matched key of count_progLang.\n",
    "\n",
    "For example, if there is word count of 'python' : 10, the existing value of key 'python' of 5 in count_progLang is updated to the value of 15, where the existing value and the value from the word count is added to the key value. "
   ]
  },
  {
   "cell_type": "code",
   "execution_count": 111,
   "id": "4dd75020",
   "metadata": {
    "scrolled": true
   },
   "outputs": [
    {
     "name": "stdout",
     "output_type": "stream",
     "text": [
      "{'python': 755, 'c': 1064, 'c++': 0, 'java': 1521, 'c#': 0, 'visual basic': 0, 'javascript': 674, 'sql': 1003, 'assembly language': 0, 'php': 47, 'swift': 60, 'go': 232, 'r': 74, 'classic visual basic': 0, 'matlab': 9, 'ruby': 41, 'delphi/object pascal': 0, 'rust': 23, 'perl': 59, 'scratch': 12, '(visual) foxpro': 0, 'sas': 6, 'objective-c': 0, 'lua': 1, 'kotlin': 53, 'ada': 1, 'fortran': 1, 'lisp': 1, 'julia': 0, 'transact-sql': 0, 'cobol': 8, 'scala': 68, 'f#': 0, 'logo': 0, 'typescript': 317, 'groovy': 20, 'bash': 87, 'dart': 2, 'rpg': 0, 'pl/sql': 0, 'powershell': 63, 'awk': 2, 'prolog': 0, 'cfml': 0, 'haskell': 3, 'd': 2, 'labview': 3, 'scheme': 3, 'abap': 9, 'ocaml': 2}\n"
     ]
    }
   ],
   "source": [
    "for i in range(len(df_jobEntries_final)):\n",
    "    #get frequency distribution of each processed job requirement as dictionary\n",
    "    word_count = FreqDist(df_jobEntries_final.loc[i, \"Job Requirement After Cleaning\"])\n",
    "    #for keys in every word count\n",
    "    for key, value in word_count.items():\n",
    "        #if the key matches any of the key in count_progLang, update the value of key in count_progLang\n",
    "        if key in count_progLang:\n",
    "            count_progLang.update({f\"{key}\" : count_progLang[f'{key}'] + value})\n",
    "\n",
    "print(count_progLang)"
   ]
  },
  {
   "cell_type": "markdown",
   "id": "5f92222e",
   "metadata": {},
   "source": [
    "Using the updated values of the count_progLang, horizontal bar is plotted using matplotlib"
   ]
  },
  {
   "cell_type": "code",
   "execution_count": 114,
   "id": "bf1ae2df",
   "metadata": {
    "scrolled": false
   },
   "outputs": [
    {
     "data": {
      "image/png": "[encoded data removed]",
      "text/plain": [
       "<Figure size 700x700 with 1 Axes>"
      ]
     },
     "metadata": {},
     "output_type": "display_data"
    }
   ],
   "source": [
    "data = count_progLang\n",
    "#sort the data of count_progLang in descending order of value\n",
    "sortedData = dict(sorted(data.items(), key=lambda x:x[1]))\n",
    "\n",
    "#use keys as an axis parameter\n",
    "langs = list(sortedData .keys())\n",
    "#use values as an axis parameter\n",
    "values = list(sortedData .values())\n",
    "\n",
    "#input axes of the plot using langs and values\n",
    "fig, ax = plt.subplots(figsize = (7, 7))\n",
    "fig.tight_layout(pad = 0.5)\n",
    "ax.barh(lang, values);\n",
    "plt.subplots_adjust(hspace=5)\n",
    "\n",
    "ax.yaxis.set_ticks_position('none')\n",
    "\n",
    "#plot labels\n",
    "plt.xlabel(\"Number of Times It Was Mentioned\")\n",
    "plt.ylabel(\"Progamming Language\")\n",
    "plt.title(\"Popularity of Programming Language in the Field of Software Development\")\n",
    "\n",
    "plt.show()"
   ]
  },
  {
   "cell_type": "markdown",
   "id": "63d4fdf3",
   "metadata": {},
   "source": [
    "From the graph, it is evident that Java is the most popular programming language in the field of software development among the top 50 programming languages. There are other languages such as go, scala, bash and r, that are not farmiliar languages. Also, there are languages that are well-known, such as c++ and c#, are not mentioned in the job requirements.\n",
    "\n",
    "Through finding these information, it is possible to learn about programming language that is important to learn for this field. Also, it is possible to learn about some of the languages are useful in this field but is not as well known as Javascript or Python.\n",
    "\n",
    "### 7.2 Desired Skill in the Field of Software Developer\n",
    "Other than the programming language skills, there are other attributes that the field would require. It applies not only the field of software development but also in other fields. Hence, word cloud is used to find some of the attributes that companies look for as the job skills and qualities. By displaying the word frequency distribution using word cloud, it is possible to visualise some of the keywords that they use for the applicants.\n",
    "\n",
    "Firstly, all the word tokens of job requirements are concated together using sum and create an array for it. Using the word cloud built-in function, word cloud is created and shown using matplotlib."
   ]
  },
  {
   "cell_type": "code",
   "execution_count": 115,
   "id": "9124216d",
   "metadata": {
    "scrolled": true
   },
   "outputs": [
    {
     "data": {
      "image/png": "[encoded data removed]",
      "text/plain": [
       "<Figure size 640x480 with 1 Axes>"
      ]
     },
     "metadata": {},
     "output_type": "display_data"
    }
   ],
   "source": [
    "fd = FreqDist(sum(df_jobEntries_final[\"Job Requirement After Cleaning\"], []))\n",
    "\n",
    "wordcloud = WordCloud()\n",
    "wordcloud.generate_from_frequencies(frequencies = fd)\n",
    "\n",
    "plt.figure()\n",
    "plt.imshow(wordcloud, interpolation=\"bilinear\")\n",
    "plt.axis(\"off\")\n",
    "plt.show()"
   ]
  },
  {
   "cell_type": "markdown",
   "id": "552af2fa",
   "metadata": {},
   "source": [
    "From the word cloud, some words are very outstanding than the other. It can be describe that the field of software development requires more skill and experience based attributes as job skills and qualities other than the personal qualities, such as communication skills. \n",
    "\n",
    "Hence, it can be said that it is more advantageous to develop the career in such a way that applicant can show the company about his/her experiences and skills related to the field. As an example, trying out projects related to software development using related pgramming language personally, out of the bound of school coursework, would be one of the good ways to gain exerience, knowledge and skills."
   ]
  },
  {
   "cell_type": "markdown",
   "id": "75f85473",
   "metadata": {},
   "source": [
    "## 8. Conclusion\n",
    "Through the analysis of job requirement of software developer, we have been able to learn more about what is needed to be a software developer. Also, it is possible to have better ideas of what preparations should be prioritised.\n",
    "\n",
    "Within the project, it would be better to find ways to overcome some of the limitations of the data and improve on the ways of data analysis. This is because the current method is not the best way of analysing about the job prospect."
   ]
  },
  {
   "cell_type": "markdown",
   "id": "02c1277c",
   "metadata": {},
   "source": [
    "## 9. Ethical Statement\n",
    "#### 9.1.\tDescription of where the data has come from \n",
    "There is known that web scrapping is legal. Also, I have seek the terms and conditions of the websites to check for any copyright issues. The websites used for this research, Linkedin, Indeed and JobStreet, did not specify that consent must be sought or they do not allow web scraping of job entries.\n",
    "\n",
    "Even if they did not specified, I could tell that they do not want users to access their pages through bot. I could tell this from the ways they use alternatives ways to block user from accessing through bot.\n",
    "- Linkedin always require an account to access any of the features in the websites\n",
    "- Indeed do not allow bot to get access, where they do not accept the request made using requests lib even after using the proper headers\n",
    "- JobStreet used JavaScript to load their pages, which hides their page source. This prevented accessing the page source through beautifulSoup.\n",
    "\n",
    "#### 9.2 Consideration around implication of utilising data for purpose \n",
    "As there are hundreds of programming lanaugage developed to this day (Upson, 2022), it was not possible to find the word frequency distribution of all the programming langauges. Hence, many of the programming languages are not covered in this reserach paper. This would lead to a result whereby there would be some of the languages that are not well-known but mentioned in the requirements.\n",
    "\n",
    "This shows that the analysis is not as accurate and thus could lead to assumptions that those are the only programming lanugaes that are mentioned in requirements.\n",
    "\n",
    "#### 9.3 Potential bias of the dataset\n",
    "The possible bias is that companies require applicants to have skills suitable for their job role offer. The job offer could be related to software development but the language they require might vary depending on the factors such as what type of software the company wants to develop. Hence, it could be said that not all companies that are hiring software development might have similar requirements. \n",
    "\n",
    "Having said that, not all companies would be hiring at the same time. Therefor, the data could be one sided, which means it is bias to the companies that posted offers for the past week. Hence, this could be one of the potential bias of the dataset.\n"
   ]
  },
  {
   "cell_type": "markdown",
   "id": "f2daafe3",
   "metadata": {},
   "source": [
    "## 10. Archive\n",
    "\n",
    "### 10.1 References\n",
    "\n",
    "##### Introduction\n",
    "- Davie S. (2022, Jan 23) askST: Will MOE increase computing degree places and how to choose the right computing degree? The Straits Times. https://www.straitstimes.com/singapore/parenting-education/askst-will-moe-increase-computing-degree-places-and-how-to-choose-the-right-computing-degree\n",
    "- Peh D. (2022, Mar 03) 10 University Degrees With The Highest Starting Salary in Singapore For 2022. ValueChampion. https://www.valuechampion.sg/highest-starting-salary-degrees-singapore\n",
    "- Luke Barousse. (2021, Nov 15). Building a bot to scrape job data. . . How NOT to collect data. YouTube. https://www.youtube.com/watch?v=1kU_ASADlPY\n",
    "\n",
    "##### Project Background\n",
    "- Talentlyft. (n.d.). What is Job Requirements? Talentlyft. https://www.talentlyft.com/en/resources/what-is-job-requirements\n",
    "- Computer Hope. (2019, Jun 30). What is a General-purpose Language? Computer Hope.  https://www.computerhope.com/jargon/g/generalp.htm\n",
    "\n",
    "###### Data Requirements\n",
    "- LinkedIn (n.d.). LinkedIn: Log In or Sign Up. LinkedIn. http://www.linkedin.com/?lang=en\n",
    "- LinkedIn (n.d.). LinkedIn: About Us. LinkedIn. https://news.linkedin.com/about-us#Statistics\n",
    "- Indeed (n.d.). Data Claim: Over 300M+ Monthly Indeed Unique Visitors. Indeed.  https://sg.indeed.com/about/methodology\n",
    "- JobStreet. (2022, Nov 10). Cost of Hire not a Consideration for Employers Hiring Non-Singaporeans. JobStreet. https://www.jobstreet.com.sg/career-resources/plan-your-career/cost-of-hire-is-not-a-consideration-for-employers-hiring-non-singaporeans/\n",
    "- JobStreet. (2021, Apr 23). 5 Great Reasons JobStreet Is the Top Choice of Singapore Hirers. JobStreet. https://www.jobstreet.com.sg/en/cms/employer/5-great-reasons-jobstreet-is-the-top-choice-of-singapore-hirers/\n",
    "- Seow J. (2020, Aug 27). Firms must advertise all S Pass jobs on MyCareersFuture.sg portal for at least 28 days before hiring foreigners. The Straits Times. https://www.straitstimes.com/singapore/manpower/firms-must-advertise-all-s-pass-level-jobs-on-mycareersfuturesg-portal-for-at\n",
    "- Phneah, J. (2020, May 30). How effective is MyCareersFuture.sg? Jeraldine Phneah. https://www.jeraldinephneah.com/mycareersfuture-sg/\n",
    "\n",
    "###### Ethical Statement\n",
    "- Upson M. (2022, Sep 15). How Many Coding Languages Are There? BestColleges. https://www.bestcolleges.com/bootcamps/guides/how-many-coding-languages-are-there/#:~:text=According%20to%20the%20Online%20Historical,in%20the%20commonly%20used%20group.\n",
    "\n",
    "### 10.2 Data Files\n",
    "- /Indeed_jobData\n",
    "- /Jobstreet_jobData\n",
    "- /Linkedin_jobData\n",
    "- TIOBE. (n.d.). TIOBE Index for January 2023. TIOBE. https://www.tiobe.com/tiobe-index/\n",
    "\n",
    "### 10.3 Resources\n",
    "- Webscraping lecture and lab, Dr Sean McGrath\n",
    "- Natural Language Processing lab, Dr Sean McGrath\n",
    "- GeeksforGeeks https://www.geeksforgeeks.org/\n",
    "- Stack Overflow https://stackoverflow.com/\n",
    "- Youtube https://www.youtube.com/\n",
    "- Selenium https://selenium-python.readthedocs.io/locating-elements.html\n",
    "- Pandas https://pandas.pydata.org/\n",
    "- Regular Expression https://docs.python.org/3/library/re.html\n",
    "- Natural Language Toolkit https://www.nltk.org/api/nltk.html\n",
    "- Matplotlib https://matplotlib.org/"
   ]
  }
 ],
 "metadata": {
  "kernelspec": {
   "display_name": "Python 3 (ipykernel)",
   "language": "python",
   "name": "python3"
  },
  "language_info": {
   "codemirror_mode": {
    "name": "ipython",
    "version": 3
   },
   "file_extension": ".py",
   "mimetype": "text/x-python",
   "name": "python",
   "nbconvert_exporter": "python",
   "pygments_lexer": "ipython3",
   "version": "3.9.13"
  }
 },
 "nbformat": 4,
 "nbformat_minor": 5
}
